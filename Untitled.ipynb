{
 "cells": [
  {
   "cell_type": "code",
   "execution_count": 34,
   "id": "7cbee6e9",
   "metadata": {},
   "outputs": [],
   "source": [
    "import numpy as np\n",
    "import pandas as pd\n",
    "from matplotlib import pyplot as plt\n",
    "import seaborn as sns\n",
    "sns.set()\n",
    "from scipy import optimize\n",
    "from ipywidgets import *\n",
    "from IPython.display import SVG\n",
    "from sklearn import datasets\n",
    "%matplotlib inline"
   ]
  },
  {
   "cell_type": "code",
   "execution_count": 35,
   "id": "b9de224e",
   "metadata": {},
   "outputs": [
    {
     "data": {
      "text/html": [
       "<div>\n",
       "<style scoped>\n",
       "    .dataframe tbody tr th:only-of-type {\n",
       "        vertical-align: middle;\n",
       "    }\n",
       "\n",
       "    .dataframe tbody tr th {\n",
       "        vertical-align: top;\n",
       "    }\n",
       "\n",
       "    .dataframe thead th {\n",
       "        text-align: right;\n",
       "    }\n",
       "</style>\n",
       "<table border=\"1\" class=\"dataframe\">\n",
       "  <thead>\n",
       "    <tr style=\"text-align: right;\">\n",
       "      <th></th>\n",
       "      <th>x1</th>\n",
       "      <th>x2</th>\n",
       "      <th>y</th>\n",
       "    </tr>\n",
       "  </thead>\n",
       "  <tbody>\n",
       "    <tr>\n",
       "      <th>0</th>\n",
       "      <td>0</td>\n",
       "      <td>0</td>\n",
       "      <td>0</td>\n",
       "    </tr>\n",
       "    <tr>\n",
       "      <th>1</th>\n",
       "      <td>0</td>\n",
       "      <td>1</td>\n",
       "      <td>0</td>\n",
       "    </tr>\n",
       "    <tr>\n",
       "      <th>2</th>\n",
       "      <td>1</td>\n",
       "      <td>0</td>\n",
       "      <td>0</td>\n",
       "    </tr>\n",
       "    <tr>\n",
       "      <th>3</th>\n",
       "      <td>1</td>\n",
       "      <td>1</td>\n",
       "      <td>1</td>\n",
       "    </tr>\n",
       "  </tbody>\n",
       "</table>\n",
       "</div>"
      ],
      "text/plain": [
       "   x1  x2  y\n",
       "0   0   0  0\n",
       "1   0   1  0\n",
       "2   1   0  0\n",
       "3   1   1  1"
      ]
     },
     "execution_count": 35,
     "metadata": {},
     "output_type": "execute_result"
    }
   ],
   "source": [
    "AND = pd.DataFrame({'x1':(0,0,1,1),'x2':(0,1,0,1),'y':(0,0,0,1)})\n",
    "AND"
   ]
  },
  {
   "cell_type": "markdown",
   "id": "65704ad4",
   "metadata": {},
   "source": [
    "we need to initialize weight t small, random values (can be positive and ngative)"
   ]
  },
  {
   "cell_type": "code",
   "execution_count": 36,
   "id": "75150198",
   "metadata": {},
   "outputs": [],
   "source": [
    "w = np.random.randn(3)*1e-4"
   ]
  },
  {
   "cell_type": "code",
   "execution_count": 37,
   "id": "ca7f8483",
   "metadata": {},
   "outputs": [
    {
     "data": {
      "text/plain": [
       "array([-3.29422895e-05,  7.78196659e-05,  1.33471097e-04])"
      ]
     },
     "execution_count": 37,
     "metadata": {},
     "output_type": "execute_result"
    }
   ],
   "source": [
    "w"
   ]
  },
  {
   "cell_type": "code",
   "execution_count": 38,
   "id": "2bfecd61",
   "metadata": {},
   "outputs": [],
   "source": [
    "weights = w"
   ]
  },
  {
   "cell_type": "code",
   "execution_count": 39,
   "id": "290f6509",
   "metadata": {},
   "outputs": [
    {
     "data": {
      "text/plain": [
       "0    0\n",
       "1    0\n",
       "2    0\n",
       "3    1\n",
       "Name: y, dtype: int64"
      ]
     },
     "execution_count": 39,
     "metadata": {},
     "output_type": "execute_result"
    }
   ],
   "source": [
    "inputs = AND[['x1','x2']]\n",
    "targets = AND['y']\n",
    "targets"
   ]
  },
  {
   "cell_type": "code",
   "execution_count": 40,
   "id": "b1f8e60d",
   "metadata": {},
   "outputs": [
    {
     "data": {
      "text/html": [
       "<div>\n",
       "<style scoped>\n",
       "    .dataframe tbody tr th:only-of-type {\n",
       "        vertical-align: middle;\n",
       "    }\n",
       "\n",
       "    .dataframe tbody tr th {\n",
       "        vertical-align: top;\n",
       "    }\n",
       "\n",
       "    .dataframe thead th {\n",
       "        text-align: right;\n",
       "    }\n",
       "</style>\n",
       "<table border=\"1\" class=\"dataframe\">\n",
       "  <thead>\n",
       "    <tr style=\"text-align: right;\">\n",
       "      <th></th>\n",
       "      <th>x1</th>\n",
       "      <th>x2</th>\n",
       "    </tr>\n",
       "  </thead>\n",
       "  <tbody>\n",
       "    <tr>\n",
       "      <th>0</th>\n",
       "      <td>0</td>\n",
       "      <td>0</td>\n",
       "    </tr>\n",
       "    <tr>\n",
       "      <th>1</th>\n",
       "      <td>0</td>\n",
       "      <td>1</td>\n",
       "    </tr>\n",
       "    <tr>\n",
       "      <th>2</th>\n",
       "      <td>1</td>\n",
       "      <td>0</td>\n",
       "    </tr>\n",
       "    <tr>\n",
       "      <th>3</th>\n",
       "      <td>1</td>\n",
       "      <td>1</td>\n",
       "    </tr>\n",
       "  </tbody>\n",
       "</table>\n",
       "</div>"
      ],
      "text/plain": [
       "   x1  x2\n",
       "0   0   0\n",
       "1   0   1\n",
       "2   1   0\n",
       "3   1   1"
      ]
     },
     "execution_count": 40,
     "metadata": {},
     "output_type": "execute_result"
    }
   ],
   "source": [
    "inputs"
   ]
  },
  {
   "cell_type": "code",
   "execution_count": 41,
   "id": "f4ed91de",
   "metadata": {},
   "outputs": [
    {
     "data": {
      "text/plain": [
       "array([-3.29422895e-05,  7.78196659e-05,  1.33471097e-04])"
      ]
     },
     "execution_count": 41,
     "metadata": {},
     "output_type": "execute_result"
    }
   ],
   "source": [
    "weights"
   ]
  },
  {
   "cell_type": "code",
   "execution_count": 42,
   "id": "919beb0e",
   "metadata": {},
   "outputs": [],
   "source": [
    "g = lambda inputs,weights : np.where(np.dot(inputs,weights)>0,1,0)"
   ]
  },
  {
   "cell_type": "code",
   "execution_count": 43,
   "id": "190918cf",
   "metadata": {},
   "outputs": [
    {
     "data": {
      "text/plain": [
       "array([0, 0, 0, 0])"
      ]
     },
     "execution_count": 43,
     "metadata": {},
     "output_type": "execute_result"
    }
   ],
   "source": [
    "g(np.c_[inputs, -np.ones((len(inputs),1))],weights)"
   ]
  },
  {
   "cell_type": "code",
   "execution_count": 44,
   "id": "ba64ffe2",
   "metadata": {},
   "outputs": [
    {
     "data": {
      "text/plain": [
       "array([[ 0.,  0., -1.],\n",
       "       [ 0.,  1., -1.],\n",
       "       [ 1.,  0., -1.],\n",
       "       [ 1.,  1., -1.]])"
      ]
     },
     "execution_count": 44,
     "metadata": {},
     "output_type": "execute_result"
    }
   ],
   "source": [
    " np.c_[inputs, -np.ones((len(inputs),1))]"
   ]
  },
  {
   "cell_type": "markdown",
   "id": "0063a60a",
   "metadata": {},
   "source": [
    "finally, a target function that iterates the learning algorithm, returning the adapted weights."
   ]
  },
  {
   "cell_type": "code",
   "execution_count": 45,
   "id": "e3214950",
   "metadata": {},
   "outputs": [],
   "source": [
    "def train(inputs, targets, weights, eta, n_iterations):\n",
    "    # add the inputs that match the bias node\n",
    "    inputs = np.c_[inputs, -np.ones((len(inputs),1))]\n",
    "    \n",
    "    for n in range(n_iterations):\n",
    "        activations = g(inputs, weights)\n",
    "        print(n, \"activations\", activations)\n",
    "        weights -= eta*np.dot(np.transpose(inputs), activations - targets)\n",
    "        print(n, \"weights\",weights)\n",
    "    return weights    "
   ]
  },
  {
   "cell_type": "markdown",
   "id": "80392a76",
   "metadata": {},
   "source": [
    "let's test it first on the AND function."
   ]
  },
  {
   "cell_type": "code",
   "execution_count": 46,
   "id": "9e6e0903",
   "metadata": {},
   "outputs": [
    {
     "name": "stdout",
     "output_type": "stream",
     "text": [
      "0 activations [0 0 0 0]\n",
      "0 weights [ 0.09996706  0.10007782 -0.09986653]\n",
      "1 activations [1 1 1 1]\n",
      "1 weights [-3.29422895e-05  7.78196659e-05  2.00133471e-01]\n",
      "2 activations [0 0 0 0]\n",
      "2 weights [0.09996706 0.10007782 0.10013347]\n",
      "3 activations [0 0 0 1]\n",
      "3 weights [0.09996706 0.10007782 0.10013347]\n",
      "4 activations [0 0 0 1]\n",
      "4 weights [0.09996706 0.10007782 0.10013347]\n",
      "5 activations [0 0 0 1]\n",
      "5 weights [0.09996706 0.10007782 0.10013347]\n",
      "6 activations [0 0 0 1]\n",
      "6 weights [0.09996706 0.10007782 0.10013347]\n",
      "7 activations [0 0 0 1]\n",
      "7 weights [0.09996706 0.10007782 0.10013347]\n",
      "8 activations [0 0 0 1]\n",
      "8 weights [0.09996706 0.10007782 0.10013347]\n",
      "9 activations [0 0 0 1]\n",
      "9 weights [0.09996706 0.10007782 0.10013347]\n",
      "10 activations [0 0 0 1]\n",
      "10 weights [0.09996706 0.10007782 0.10013347]\n",
      "11 activations [0 0 0 1]\n",
      "11 weights [0.09996706 0.10007782 0.10013347]\n",
      "12 activations [0 0 0 1]\n",
      "12 weights [0.09996706 0.10007782 0.10013347]\n",
      "13 activations [0 0 0 1]\n",
      "13 weights [0.09996706 0.10007782 0.10013347]\n",
      "14 activations [0 0 0 1]\n",
      "14 weights [0.09996706 0.10007782 0.10013347]\n",
      "15 activations [0 0 0 1]\n",
      "15 weights [0.09996706 0.10007782 0.10013347]\n",
      "16 activations [0 0 0 1]\n",
      "16 weights [0.09996706 0.10007782 0.10013347]\n",
      "17 activations [0 0 0 1]\n",
      "17 weights [0.09996706 0.10007782 0.10013347]\n",
      "18 activations [0 0 0 1]\n",
      "18 weights [0.09996706 0.10007782 0.10013347]\n",
      "19 activations [0 0 0 1]\n",
      "19 weights [0.09996706 0.10007782 0.10013347]\n"
     ]
    },
    {
     "data": {
      "text/plain": [
       "0    0\n",
       "1    0\n",
       "2    0\n",
       "3    1\n",
       "Name: y, dtype: int64"
      ]
     },
     "execution_count": 46,
     "metadata": {},
     "output_type": "execute_result"
    }
   ],
   "source": [
    "inputs = AND[['x1','x2']]\n",
    "targets = AND['y']\n",
    "w = train(inputs,targets, w, 0.1,20)\n",
    "targets"
   ]
  },
  {
   "cell_type": "markdown",
   "id": "faff3cb2",
   "metadata": {},
   "source": [
    "checking the performance"
   ]
  },
  {
   "cell_type": "code",
   "execution_count": 47,
   "id": "c2ac3b20",
   "metadata": {},
   "outputs": [
    {
     "data": {
      "text/plain": [
       "array([0, 0, 0, 1])"
      ]
     },
     "execution_count": 47,
     "metadata": {},
     "output_type": "execute_result"
    }
   ],
   "source": [
    "g(np.c_[inputs, -np.ones((len(inputs),1))],w)"
   ]
  },
  {
   "cell_type": "code",
   "execution_count": 48,
   "id": "4fa86948",
   "metadata": {},
   "outputs": [
    {
     "data": {
      "text/html": [
       "<div>\n",
       "<style scoped>\n",
       "    .dataframe tbody tr th:only-of-type {\n",
       "        vertical-align: middle;\n",
       "    }\n",
       "\n",
       "    .dataframe tbody tr th {\n",
       "        vertical-align: top;\n",
       "    }\n",
       "\n",
       "    .dataframe thead th {\n",
       "        text-align: right;\n",
       "    }\n",
       "</style>\n",
       "<table border=\"1\" class=\"dataframe\">\n",
       "  <thead>\n",
       "    <tr style=\"text-align: right;\">\n",
       "      <th></th>\n",
       "      <th>x1</th>\n",
       "      <th>x2</th>\n",
       "      <th>y</th>\n",
       "    </tr>\n",
       "  </thead>\n",
       "  <tbody>\n",
       "    <tr>\n",
       "      <th>0</th>\n",
       "      <td>0</td>\n",
       "      <td>0</td>\n",
       "      <td>0</td>\n",
       "    </tr>\n",
       "    <tr>\n",
       "      <th>1</th>\n",
       "      <td>0</td>\n",
       "      <td>1</td>\n",
       "      <td>1</td>\n",
       "    </tr>\n",
       "    <tr>\n",
       "      <th>2</th>\n",
       "      <td>1</td>\n",
       "      <td>0</td>\n",
       "      <td>1</td>\n",
       "    </tr>\n",
       "    <tr>\n",
       "      <th>3</th>\n",
       "      <td>1</td>\n",
       "      <td>1</td>\n",
       "      <td>1</td>\n",
       "    </tr>\n",
       "  </tbody>\n",
       "</table>\n",
       "</div>"
      ],
      "text/plain": [
       "   x1  x2  y\n",
       "0   0   0  0\n",
       "1   0   1  1\n",
       "2   1   0  1\n",
       "3   1   1  1"
      ]
     },
     "execution_count": 48,
     "metadata": {},
     "output_type": "execute_result"
    }
   ],
   "source": [
    "OR = pd.DataFrame({'x1':(0,0,1,1),'x2':(0,1,0,1),'y':(0,1,1,1)})\n",
    "OR"
   ]
  },
  {
   "cell_type": "code",
   "execution_count": 49,
   "id": "232971c1",
   "metadata": {},
   "outputs": [
    {
     "data": {
      "text/plain": [
       "array([ 9.25040151e-05, -2.25266202e-04, -7.97203650e-05])"
      ]
     },
     "execution_count": 49,
     "metadata": {},
     "output_type": "execute_result"
    }
   ],
   "source": [
    "w = np.random.randn(3)*1e-4\n",
    "w"
   ]
  },
  {
   "cell_type": "code",
   "execution_count": 50,
   "id": "bcd9662d",
   "metadata": {},
   "outputs": [
    {
     "name": "stdout",
     "output_type": "stream",
     "text": [
      "0 activations [1 0 1 0]\n",
      "0 weights [ 0.2500925   0.49977473 -0.25007972]\n",
      "1 activations [1 1 1 1]\n",
      "1 weights [ 2.50092504e-01  4.99774734e-01 -7.97203650e-05]\n",
      "2 activations [1 1 1 1]\n",
      "2 weights [0.2500925  0.49977473 0.24992028]\n",
      "3 activations [0 1 1 1]\n",
      "3 weights [0.2500925  0.49977473 0.24992028]\n",
      "4 activations [0 1 1 1]\n",
      "4 weights [0.2500925  0.49977473 0.24992028]\n",
      "5 activations [0 1 1 1]\n",
      "5 weights [0.2500925  0.49977473 0.24992028]\n",
      "6 activations [0 1 1 1]\n",
      "6 weights [0.2500925  0.49977473 0.24992028]\n",
      "7 activations [0 1 1 1]\n",
      "7 weights [0.2500925  0.49977473 0.24992028]\n",
      "8 activations [0 1 1 1]\n",
      "8 weights [0.2500925  0.49977473 0.24992028]\n",
      "9 activations [0 1 1 1]\n",
      "9 weights [0.2500925  0.49977473 0.24992028]\n",
      "10 activations [0 1 1 1]\n",
      "10 weights [0.2500925  0.49977473 0.24992028]\n",
      "11 activations [0 1 1 1]\n",
      "11 weights [0.2500925  0.49977473 0.24992028]\n",
      "12 activations [0 1 1 1]\n",
      "12 weights [0.2500925  0.49977473 0.24992028]\n",
      "13 activations [0 1 1 1]\n",
      "13 weights [0.2500925  0.49977473 0.24992028]\n",
      "14 activations [0 1 1 1]\n",
      "14 weights [0.2500925  0.49977473 0.24992028]\n",
      "15 activations [0 1 1 1]\n",
      "15 weights [0.2500925  0.49977473 0.24992028]\n",
      "16 activations [0 1 1 1]\n",
      "16 weights [0.2500925  0.49977473 0.24992028]\n",
      "17 activations [0 1 1 1]\n",
      "17 weights [0.2500925  0.49977473 0.24992028]\n",
      "18 activations [0 1 1 1]\n",
      "18 weights [0.2500925  0.49977473 0.24992028]\n",
      "19 activations [0 1 1 1]\n",
      "19 weights [0.2500925  0.49977473 0.24992028]\n"
     ]
    }
   ],
   "source": [
    "inputs = OR[['x1','x2']]\n",
    "targets = OR['y']\n",
    "w = train(inputs,targets,w,0.25,20)"
   ]
  },
  {
   "cell_type": "code",
   "execution_count": 51,
   "id": "2e6f444c",
   "metadata": {},
   "outputs": [
    {
     "data": {
      "text/plain": [
       "array([0, 1, 1, 1])"
      ]
     },
     "execution_count": 51,
     "metadata": {},
     "output_type": "execute_result"
    }
   ],
   "source": [
    "g(np.c_[inputs, -np.ones((len(inputs),1))],w)"
   ]
  },
  {
   "cell_type": "code",
   "execution_count": 52,
   "id": "8f3c2492",
   "metadata": {},
   "outputs": [
    {
     "data": {
      "text/html": [
       "<div>\n",
       "<style scoped>\n",
       "    .dataframe tbody tr th:only-of-type {\n",
       "        vertical-align: middle;\n",
       "    }\n",
       "\n",
       "    .dataframe tbody tr th {\n",
       "        vertical-align: top;\n",
       "    }\n",
       "\n",
       "    .dataframe thead th {\n",
       "        text-align: right;\n",
       "    }\n",
       "</style>\n",
       "<table border=\"1\" class=\"dataframe\">\n",
       "  <thead>\n",
       "    <tr style=\"text-align: right;\">\n",
       "      <th></th>\n",
       "      <th>x1</th>\n",
       "      <th>x2</th>\n",
       "      <th>y</th>\n",
       "    </tr>\n",
       "  </thead>\n",
       "  <tbody>\n",
       "    <tr>\n",
       "      <th>0</th>\n",
       "      <td>0</td>\n",
       "      <td>0</td>\n",
       "      <td>0</td>\n",
       "    </tr>\n",
       "    <tr>\n",
       "      <th>1</th>\n",
       "      <td>0</td>\n",
       "      <td>1</td>\n",
       "      <td>1</td>\n",
       "    </tr>\n",
       "    <tr>\n",
       "      <th>2</th>\n",
       "      <td>1</td>\n",
       "      <td>0</td>\n",
       "      <td>1</td>\n",
       "    </tr>\n",
       "    <tr>\n",
       "      <th>3</th>\n",
       "      <td>1</td>\n",
       "      <td>1</td>\n",
       "      <td>0</td>\n",
       "    </tr>\n",
       "  </tbody>\n",
       "</table>\n",
       "</div>"
      ],
      "text/plain": [
       "   x1  x2  y\n",
       "0   0   0  0\n",
       "1   0   1  1\n",
       "2   1   0  1\n",
       "3   1   1  0"
      ]
     },
     "execution_count": 52,
     "metadata": {},
     "output_type": "execute_result"
    }
   ],
   "source": [
    "XOR = pd.DataFrame({'x1':(0,0,1,1),'x2':(0,1,0,1),'y':(0,1,1,0)})\n",
    "XOR"
   ]
  },
  {
   "cell_type": "code",
   "execution_count": 53,
   "id": "db524eb9",
   "metadata": {},
   "outputs": [
    {
     "data": {
      "text/plain": [
       "array([1.19923418e-04, 8.42911529e-05, 1.01941069e-04])"
      ]
     },
     "execution_count": 53,
     "metadata": {},
     "output_type": "execute_result"
    }
   ],
   "source": [
    "w = np.random.randn(3)*1e-4\n",
    "w"
   ]
  },
  {
   "cell_type": "code",
   "execution_count": 54,
   "id": "843bafeb",
   "metadata": {},
   "outputs": [
    {
     "name": "stdout",
     "output_type": "stream",
     "text": [
      "0 activations [0 0 1 1]\n",
      "0 weights [-9.99880077e-01  8.42911529e-05  1.01941069e-04]\n",
      "1 activations [0 0 0 0]\n",
      "1 weights [ 1.19923418e-04  1.00008429e+00 -1.99989806e+00]\n",
      "2 activations [1 1 1 1]\n",
      "2 weights [-9.99880077e-01  8.42911529e-05  1.01941069e-04]\n",
      "3 activations [0 0 0 0]\n",
      "3 weights [ 1.19923418e-04  1.00008429e+00 -1.99989806e+00]\n",
      "4 activations [1 1 1 1]\n",
      "4 weights [-9.99880077e-01  8.42911529e-05  1.01941069e-04]\n",
      "5 activations [0 0 0 0]\n",
      "5 weights [ 1.19923418e-04  1.00008429e+00 -1.99989806e+00]\n",
      "6 activations [1 1 1 1]\n",
      "6 weights [-9.99880077e-01  8.42911529e-05  1.01941069e-04]\n",
      "7 activations [0 0 0 0]\n",
      "7 weights [ 1.19923418e-04  1.00008429e+00 -1.99989806e+00]\n",
      "8 activations [1 1 1 1]\n",
      "8 weights [-9.99880077e-01  8.42911529e-05  1.01941069e-04]\n",
      "9 activations [0 0 0 0]\n",
      "9 weights [ 1.19923418e-04  1.00008429e+00 -1.99989806e+00]\n"
     ]
    }
   ],
   "source": [
    "inputs = XOR[['x1','x2']]\n",
    "targets = XOR['y']\n",
    "w = train(inputs,targets,w,1,10)"
   ]
  },
  {
   "cell_type": "code",
   "execution_count": 55,
   "id": "a24f1d64",
   "metadata": {},
   "outputs": [
    {
     "data": {
      "text/plain": [
       "array([1, 1, 1, 1])"
      ]
     },
     "execution_count": 55,
     "metadata": {},
     "output_type": "execute_result"
    }
   ],
   "source": [
    "g(np.c_[inputs, -np.ones((len(inputs),1))],w)"
   ]
  },
  {
   "cell_type": "code",
   "execution_count": 56,
   "id": "96d79972",
   "metadata": {},
   "outputs": [
    {
     "data": {
      "text/plain": [
       "array([[ 0.,  0., -1.],\n",
       "       [ 0.,  1., -1.],\n",
       "       [ 1.,  0., -1.],\n",
       "       [ 1.,  1., -1.]])"
      ]
     },
     "execution_count": 56,
     "metadata": {},
     "output_type": "execute_result"
    }
   ],
   "source": [
    "np.c_[inputs, -np.ones((len(inputs),1))]"
   ]
  },
  {
   "cell_type": "code",
   "execution_count": null,
   "id": "361fec11",
   "metadata": {},
   "outputs": [],
   "source": []
  }
 ],
 "metadata": {
  "kernelspec": {
   "display_name": "Python 3",
   "language": "python",
   "name": "python3"
  },
  "language_info": {
   "codemirror_mode": {
    "name": "ipython",
    "version": 3
   },
   "file_extension": ".py",
   "mimetype": "text/x-python",
   "name": "python",
   "nbconvert_exporter": "python",
   "pygments_lexer": "ipython3",
   "version": "3.8.8"
  }
 },
 "nbformat": 4,
 "nbformat_minor": 5
}
